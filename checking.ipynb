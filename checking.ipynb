{
 "cells": [
  {
   "cell_type": "code",
   "execution_count": 1,
   "id": "ecb7f4a9",
   "metadata": {},
   "outputs": [],
   "source": [
    "import joblib\n",
    "import re\n",
    "import nltk\n",
    "from nltk.corpus import stopwords\n",
    "from nltk.tokenize import word_tokenize\n",
    "from nltk.stem import WordNetLemmatizer"
   ]
  },
  {
   "cell_type": "code",
   "execution_count": 4,
   "id": "41b19be2",
   "metadata": {},
   "outputs": [],
   "source": [
    "# --- SETUP: This part only needs to run once ---\n",
    "# You may need to download these in your new environment if you haven't already\n",
    "try:\n",
    "    stopwords.words('english')\n",
    "except LookupError:\n",
    "    nltk.download('punkt', quiet=True)\n",
    "    nltk.download('stopwords', quiet=True)\n",
    "    nltk.download('wordnet', quiet=True)\n",
    "# --- END SETUP ---\n"
   ]
  },
  {
   "cell_type": "code",
   "execution_count": 5,
   "id": "0ed8cd39",
   "metadata": {},
   "outputs": [
    {
     "name": "stdout",
     "output_type": "stream",
     "text": [
      "Loading model and vectorizer...\n",
      "Files loaded successfully.\n"
     ]
    }
   ],
   "source": [
    "# --- 1. Load the saved model and vectorizer ---\n",
    "print(\"Loading model and vectorizer...\")\n",
    "try:\n",
    "    model = joblib.load('fake_news_model.pkl')\n",
    "    vectorizer = joblib.load('vectorizer.pkl')\n",
    "    print(\"Files loaded successfully.\")\n",
    "except FileNotFoundError:\n",
    "    print(\"Error: Make sure 'fake_news_model.pkl' and 'vectorizer.pkl' are in the same directory.\")\n",
    "    exit()\n"
   ]
  },
  {
   "cell_type": "code",
   "execution_count": 6,
   "id": "f7d01061",
   "metadata": {},
   "outputs": [],
   "source": [
    "# --- 2. Re-create the EXACT SAME preprocessing function from the notebook ---\n",
    "stop_words = set(stopwords.words('english'))\n",
    "lemmatizer = WordNetLemmatizer()\n",
    "\n",
    "def clean_and_process(text):\n",
    "    text = str(text).lower() # Ensure input is string and lowercase\n",
    "    text = re.sub(r'[^a-z\\s]', '', text) # Keep only letters and spaces\n",
    "    tokens = word_tokenize(text)\n",
    "    processed_tokens = [lemmatizer.lemmatize(word) for word in tokens if word not in stop_words]\n",
    "    return \" \".join(processed_tokens)"
   ]
  },
  {
   "cell_type": "code",
   "execution_count": 7,
   "id": "5ad4113e",
   "metadata": {},
   "outputs": [],
   "source": [
    "# --- 3. Create a single prediction function ---\n",
    "def predict_news(title, text):\n",
    "    \"\"\"Takes a title and text, processes them, and returns a prediction.\"\"\"\n",
    "    \n",
    "    # Combine title and text, just like in the notebook\n",
    "    full_text = title + \" \" + text\n",
    "    \n",
    "    # Clean the combined text\n",
    "    processed_text = clean_and_process(full_text)\n",
    "    \n",
    "    # Use the LOADED vectorizer to transform the text\n",
    "    # Note: we use .transform(), NOT .fit_transform()\n",
    "    vectorized_text = vectorizer.transform([processed_text])\n",
    "    \n",
    "    # Use the LOADED model to make a prediction\n",
    "    prediction = model.predict(vectorized_text)\n",
    "    \n",
    "    # Interpret the prediction\n",
    "    return \"Fake News\" if prediction[0] == 1 else \"Real News\""
   ]
  },
  {
   "cell_type": "code",
   "execution_count": 8,
   "id": "732247e7",
   "metadata": {},
   "outputs": [
    {
     "name": "stdout",
     "output_type": "stream",
     "text": [
      "\n",
      "Title: 'Goldman Sachs Endorses Hillary Clinton for President'\n",
      "Prediction: Fake News\n",
      "--------------------\n",
      "Title: 'Trump Tussle Gives Unpopular Mexican Leader Much-Needed Boost'\n",
      "Prediction: Fake News\n"
     ]
    }
   ],
   "source": [
    "# --- 4. Example Usage ---\n",
    "if __name__ == '__main__':\n",
    "    # Example of a news item to test\n",
    "    sample_title = \"Goldman Sachs Endorses Hillary Clinton for President\"\n",
    "    sample_text = \"Goldman Sachs has officially thrown its weight behind Hillary Clinton's presidential campaign.\"\n",
    "    \n",
    "    result = predict_news(sample_title, sample_text)\n",
    "    print(f\"\\nTitle: '{sample_title}'\")\n",
    "    print(f\"Prediction: {result}\")\n",
    "    \n",
    "    print(\"-\" * 20)\n",
    "\n",
    "    sample_title_2 = \"Trump Tussle Gives Unpopular Mexican Leader Much-Needed Boost\"\n",
    "    sample_text_2 = \"A senior Mexican official said that the country is prepared to immediately retaliate.\"\n",
    "\n",
    "    result_2 = predict_news(sample_title_2, sample_text_2)\n",
    "    print(f\"Title: '{sample_title_2}'\")\n",
    "    print(f\"Prediction: {result_2}\")"
   ]
  }
 ],
 "metadata": {
  "kernelspec": {
   "display_name": "Python 3",
   "language": "python",
   "name": "python3"
  },
  "language_info": {
   "codemirror_mode": {
    "name": "ipython",
    "version": 3
   },
   "file_extension": ".py",
   "mimetype": "text/x-python",
   "name": "python",
   "nbconvert_exporter": "python",
   "pygments_lexer": "ipython3",
   "version": "3.11.4"
  }
 },
 "nbformat": 4,
 "nbformat_minor": 5
}
